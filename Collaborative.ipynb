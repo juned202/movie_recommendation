{
  "cells": [
    {
      "cell_type": "code",
      "source": [
        "!pip install numpy\n",
        "!pip install scikit-surprise"
      ],
      "metadata": {
        "id": "6tZPmEEy0E30",
        "colab": {
          "base_uri": "https://localhost:8080/"
        },
        "outputId": "ba8960f5-3de6-4cc3-ee10-de2ded3a1d04"
      },
      "execution_count": null,
      "outputs": [
        {
          "output_type": "stream",
          "name": "stdout",
          "text": [
            "Requirement already satisfied: numpy in /usr/local/lib/python3.7/dist-packages (1.21.5)\n",
            "Collecting scikit-surprise\n",
            "  Downloading scikit-surprise-1.1.1.tar.gz (11.8 MB)\n",
            "\u001b[K     |████████████████████████████████| 11.8 MB 11.3 MB/s \n",
            "\u001b[?25hRequirement already satisfied: joblib>=0.11 in /usr/local/lib/python3.7/dist-packages (from scikit-surprise) (1.1.0)\n",
            "Requirement already satisfied: numpy>=1.11.2 in /usr/local/lib/python3.7/dist-packages (from scikit-surprise) (1.21.5)\n",
            "Requirement already satisfied: scipy>=1.0.0 in /usr/local/lib/python3.7/dist-packages (from scikit-surprise) (1.4.1)\n",
            "Requirement already satisfied: six>=1.10.0 in /usr/local/lib/python3.7/dist-packages (from scikit-surprise) (1.15.0)\n",
            "Building wheels for collected packages: scikit-surprise\n",
            "  Building wheel for scikit-surprise (setup.py) ... \u001b[?25l\u001b[?25hdone\n",
            "  Created wheel for scikit-surprise: filename=scikit_surprise-1.1.1-cp37-cp37m-linux_x86_64.whl size=1630089 sha256=ef1dccc47d1b96e3fa8628c160e68952693de0812f4acc8c8f67a77e6d3535c7\n",
            "  Stored in directory: /root/.cache/pip/wheels/76/44/74/b498c42be47b2406bd27994e16c5188e337c657025ab400c1c\n",
            "Successfully built scikit-surprise\n",
            "Installing collected packages: scikit-surprise\n",
            "Successfully installed scikit-surprise-1.1.1\n"
          ]
        }
      ]
    },
    {
      "cell_type": "code",
      "execution_count": null,
      "metadata": {
        "id": "OvbBZesTCxc8"
      },
      "outputs": [],
      "source": [
        "import surprise\n",
        "from surprise import Dataset\n",
        "import pandas as pd\n",
        "import numpy as np\n",
        "import matplotlib.pyplot as plt\n",
        "import seaborn as sns\n",
        "from collections import Counter\n",
        "from scipy.sparse import csr_matrix\n",
        "from surprise.model_selection import train_test_split\n",
        "from surprise import accuracy\n",
        "from surprise import KNNBasic,SVD\n",
        "from surprise import Reader\n",
        "from surprise.model_selection import cross_validate\n",
        "from surprise.model_selection import GridSearchCV\n"
      ]
    },
    {
      "cell_type": "markdown",
      "metadata": {
        "id": "AVCdNv9xYpV2"
      },
      "source": [
        "# Dataset Analysis"
      ]
    },
    {
      "cell_type": "code",
      "execution_count": null,
      "metadata": {
        "id": "e1bTTN8gH5vZ"
      },
      "outputs": [],
      "source": [
        "movies = pd.read_csv('/content/drive/MyDrive/ml-20m/movies.csv')\n",
        "ratings = pd.read_csv('/content/drive/MyDrive/ml-20m/ratings.csv')\n",
        "data = pd.merge(left=movies, right=ratings, on='movieId')\n",
        "reader = Reader(rating_scale=(0.5, 5.0))\n",
        "# data = Dataset.load_from_df(data[['userId', 'movieId','rating']], reader)"
      ]
    },
    {
      "cell_type": "code",
      "execution_count": null,
      "metadata": {
        "colab": {
          "base_uri": "https://localhost:8080/",
          "height": 206
        },
        "id": "4A0_5OQzRomG",
        "outputId": "314b115f-dca3-4fa3-afdc-156ced2cf997"
      },
      "outputs": [
        {
          "output_type": "execute_result",
          "data": {
            "text/html": [
              "\n",
              "  <div id=\"df-59866878-dae0-4941-9c35-12373ed1fd71\">\n",
              "    <div class=\"colab-df-container\">\n",
              "      <div>\n",
              "<style scoped>\n",
              "    .dataframe tbody tr th:only-of-type {\n",
              "        vertical-align: middle;\n",
              "    }\n",
              "\n",
              "    .dataframe tbody tr th {\n",
              "        vertical-align: top;\n",
              "    }\n",
              "\n",
              "    .dataframe thead th {\n",
              "        text-align: right;\n",
              "    }\n",
              "</style>\n",
              "<table border=\"1\" class=\"dataframe\">\n",
              "  <thead>\n",
              "    <tr style=\"text-align: right;\">\n",
              "      <th></th>\n",
              "      <th>userId</th>\n",
              "      <th>movieId</th>\n",
              "      <th>rating</th>\n",
              "      <th>timestamp</th>\n",
              "    </tr>\n",
              "  </thead>\n",
              "  <tbody>\n",
              "    <tr>\n",
              "      <th>0</th>\n",
              "      <td>1</td>\n",
              "      <td>2</td>\n",
              "      <td>3.5</td>\n",
              "      <td>1112486027</td>\n",
              "    </tr>\n",
              "    <tr>\n",
              "      <th>1</th>\n",
              "      <td>1</td>\n",
              "      <td>29</td>\n",
              "      <td>3.5</td>\n",
              "      <td>1112484676</td>\n",
              "    </tr>\n",
              "    <tr>\n",
              "      <th>2</th>\n",
              "      <td>1</td>\n",
              "      <td>32</td>\n",
              "      <td>3.5</td>\n",
              "      <td>1112484819</td>\n",
              "    </tr>\n",
              "    <tr>\n",
              "      <th>3</th>\n",
              "      <td>1</td>\n",
              "      <td>47</td>\n",
              "      <td>3.5</td>\n",
              "      <td>1112484727</td>\n",
              "    </tr>\n",
              "    <tr>\n",
              "      <th>4</th>\n",
              "      <td>1</td>\n",
              "      <td>50</td>\n",
              "      <td>3.5</td>\n",
              "      <td>1112484580</td>\n",
              "    </tr>\n",
              "  </tbody>\n",
              "</table>\n",
              "</div>\n",
              "      <button class=\"colab-df-convert\" onclick=\"convertToInteractive('df-59866878-dae0-4941-9c35-12373ed1fd71')\"\n",
              "              title=\"Convert this dataframe to an interactive table.\"\n",
              "              style=\"display:none;\">\n",
              "        \n",
              "  <svg xmlns=\"http://www.w3.org/2000/svg\" height=\"24px\"viewBox=\"0 0 24 24\"\n",
              "       width=\"24px\">\n",
              "    <path d=\"M0 0h24v24H0V0z\" fill=\"none\"/>\n",
              "    <path d=\"M18.56 5.44l.94 2.06.94-2.06 2.06-.94-2.06-.94-.94-2.06-.94 2.06-2.06.94zm-11 1L8.5 8.5l.94-2.06 2.06-.94-2.06-.94L8.5 2.5l-.94 2.06-2.06.94zm10 10l.94 2.06.94-2.06 2.06-.94-2.06-.94-.94-2.06-.94 2.06-2.06.94z\"/><path d=\"M17.41 7.96l-1.37-1.37c-.4-.4-.92-.59-1.43-.59-.52 0-1.04.2-1.43.59L10.3 9.45l-7.72 7.72c-.78.78-.78 2.05 0 2.83L4 21.41c.39.39.9.59 1.41.59.51 0 1.02-.2 1.41-.59l7.78-7.78 2.81-2.81c.8-.78.8-2.07 0-2.86zM5.41 20L4 18.59l7.72-7.72 1.47 1.35L5.41 20z\"/>\n",
              "  </svg>\n",
              "      </button>\n",
              "      \n",
              "  <style>\n",
              "    .colab-df-container {\n",
              "      display:flex;\n",
              "      flex-wrap:wrap;\n",
              "      gap: 12px;\n",
              "    }\n",
              "\n",
              "    .colab-df-convert {\n",
              "      background-color: #E8F0FE;\n",
              "      border: none;\n",
              "      border-radius: 50%;\n",
              "      cursor: pointer;\n",
              "      display: none;\n",
              "      fill: #1967D2;\n",
              "      height: 32px;\n",
              "      padding: 0 0 0 0;\n",
              "      width: 32px;\n",
              "    }\n",
              "\n",
              "    .colab-df-convert:hover {\n",
              "      background-color: #E2EBFA;\n",
              "      box-shadow: 0px 1px 2px rgba(60, 64, 67, 0.3), 0px 1px 3px 1px rgba(60, 64, 67, 0.15);\n",
              "      fill: #174EA6;\n",
              "    }\n",
              "\n",
              "    [theme=dark] .colab-df-convert {\n",
              "      background-color: #3B4455;\n",
              "      fill: #D2E3FC;\n",
              "    }\n",
              "\n",
              "    [theme=dark] .colab-df-convert:hover {\n",
              "      background-color: #434B5C;\n",
              "      box-shadow: 0px 1px 3px 1px rgba(0, 0, 0, 0.15);\n",
              "      filter: drop-shadow(0px 1px 2px rgba(0, 0, 0, 0.3));\n",
              "      fill: #FFFFFF;\n",
              "    }\n",
              "  </style>\n",
              "\n",
              "      <script>\n",
              "        const buttonEl =\n",
              "          document.querySelector('#df-59866878-dae0-4941-9c35-12373ed1fd71 button.colab-df-convert');\n",
              "        buttonEl.style.display =\n",
              "          google.colab.kernel.accessAllowed ? 'block' : 'none';\n",
              "\n",
              "        async function convertToInteractive(key) {\n",
              "          const element = document.querySelector('#df-59866878-dae0-4941-9c35-12373ed1fd71');\n",
              "          const dataTable =\n",
              "            await google.colab.kernel.invokeFunction('convertToInteractive',\n",
              "                                                     [key], {});\n",
              "          if (!dataTable) return;\n",
              "\n",
              "          const docLinkHtml = 'Like what you see? Visit the ' +\n",
              "            '<a target=\"_blank\" href=https://colab.research.google.com/notebooks/data_table.ipynb>data table notebook</a>'\n",
              "            + ' to learn more about interactive tables.';\n",
              "          element.innerHTML = '';\n",
              "          dataTable['output_type'] = 'display_data';\n",
              "          await google.colab.output.renderOutput(dataTable, element);\n",
              "          const docLink = document.createElement('div');\n",
              "          docLink.innerHTML = docLinkHtml;\n",
              "          element.appendChild(docLink);\n",
              "        }\n",
              "      </script>\n",
              "    </div>\n",
              "  </div>\n",
              "  "
            ],
            "text/plain": [
              "   userId  movieId  rating   timestamp\n",
              "0       1        2     3.5  1112486027\n",
              "1       1       29     3.5  1112484676\n",
              "2       1       32     3.5  1112484819\n",
              "3       1       47     3.5  1112484727\n",
              "4       1       50     3.5  1112484580"
            ]
          },
          "metadata": {},
          "execution_count": 13
        }
      ],
      "source": [
        "ratings.head()"
      ]
    },
    {
      "cell_type": "code",
      "execution_count": null,
      "metadata": {
        "colab": {
          "base_uri": "https://localhost:8080/"
        },
        "id": "R5rgpHxqRQ92",
        "outputId": "03b0561f-63a3-4aa5-91b0-f16390f276c1"
      },
      "outputs": [
        {
          "output_type": "stream",
          "name": "stdout",
          "text": [
            "Number of user:-> 138493\n",
            "Number of item:-> 26744\n",
            "max rating :-> 5.0\n",
            "min rating:-> 0.5\n",
            "avg rating :-> 3.5255285642993797\n",
            "avg rating by user :-> 3.627208621886526\n"
          ]
        }
      ],
      "source": [
        "user,item,rating= data[\"userId\"],data[\"movieId\"],data[\"rating\"]\n",
        "max_user,max_item = user.nunique(),item.nunique()\n",
        "max_rating,min_rating,avg_rating=rating.max(),rating.min(),rating.mean()\n",
        "print(\"Number of user:->\",max_user)\n",
        "print(\"Number of item:->\",max_item)\n",
        "print(\"max rating :->\",max_rating)\n",
        "print(\"min rating:->\",min_rating)\n",
        "print(\"avg rating :->\",avg_rating)\n",
        "mean_ratings = data.groupby('userId')['rating'].mean()\n",
        "meanofuser=mean_ratings.mean()\n",
        "print(\"avg rating by user :->\",meanofuser)\n"
      ]
    },
    {
      "cell_type": "markdown",
      "metadata": {
        "id": "VztdguFqYlcc"
      },
      "source": [
        " best movie by average rating"
      ]
    },
    {
      "cell_type": "code",
      "execution_count": null,
      "metadata": {
        "colab": {
          "base_uri": "https://localhost:8080/",
          "height": 81
        },
        "id": "Vq4GQ20IYqa-",
        "outputId": "80e9e832-76e1-4aa9-e47b-867371d1a0e2"
      },
      "outputs": [
        {
          "output_type": "execute_result",
          "data": {
            "text/html": [
              "\n",
              "  <div id=\"df-954e27e6-9c72-43ae-842e-85b58c1e15de\">\n",
              "    <div class=\"colab-df-container\">\n",
              "      <div>\n",
              "<style scoped>\n",
              "    .dataframe tbody tr th:only-of-type {\n",
              "        vertical-align: middle;\n",
              "    }\n",
              "\n",
              "    .dataframe tbody tr th {\n",
              "        vertical-align: top;\n",
              "    }\n",
              "\n",
              "    .dataframe thead th {\n",
              "        text-align: right;\n",
              "    }\n",
              "</style>\n",
              "<table border=\"1\" class=\"dataframe\">\n",
              "  <thead>\n",
              "    <tr style=\"text-align: right;\">\n",
              "      <th></th>\n",
              "      <th>movieId</th>\n",
              "      <th>title</th>\n",
              "      <th>genres</th>\n",
              "    </tr>\n",
              "  </thead>\n",
              "  <tbody>\n",
              "    <tr>\n",
              "      <th>3267</th>\n",
              "      <td>3354</td>\n",
              "      <td>Mission to Mars (2000)</td>\n",
              "      <td>Sci-Fi</td>\n",
              "    </tr>\n",
              "  </tbody>\n",
              "</table>\n",
              "</div>\n",
              "      <button class=\"colab-df-convert\" onclick=\"convertToInteractive('df-954e27e6-9c72-43ae-842e-85b58c1e15de')\"\n",
              "              title=\"Convert this dataframe to an interactive table.\"\n",
              "              style=\"display:none;\">\n",
              "        \n",
              "  <svg xmlns=\"http://www.w3.org/2000/svg\" height=\"24px\"viewBox=\"0 0 24 24\"\n",
              "       width=\"24px\">\n",
              "    <path d=\"M0 0h24v24H0V0z\" fill=\"none\"/>\n",
              "    <path d=\"M18.56 5.44l.94 2.06.94-2.06 2.06-.94-2.06-.94-.94-2.06-.94 2.06-2.06.94zm-11 1L8.5 8.5l.94-2.06 2.06-.94-2.06-.94L8.5 2.5l-.94 2.06-2.06.94zm10 10l.94 2.06.94-2.06 2.06-.94-2.06-.94-.94-2.06-.94 2.06-2.06.94z\"/><path d=\"M17.41 7.96l-1.37-1.37c-.4-.4-.92-.59-1.43-.59-.52 0-1.04.2-1.43.59L10.3 9.45l-7.72 7.72c-.78.78-.78 2.05 0 2.83L4 21.41c.39.39.9.59 1.41.59.51 0 1.02-.2 1.41-.59l7.78-7.78 2.81-2.81c.8-.78.8-2.07 0-2.86zM5.41 20L4 18.59l7.72-7.72 1.47 1.35L5.41 20z\"/>\n",
              "  </svg>\n",
              "      </button>\n",
              "      \n",
              "  <style>\n",
              "    .colab-df-container {\n",
              "      display:flex;\n",
              "      flex-wrap:wrap;\n",
              "      gap: 12px;\n",
              "    }\n",
              "\n",
              "    .colab-df-convert {\n",
              "      background-color: #E8F0FE;\n",
              "      border: none;\n",
              "      border-radius: 50%;\n",
              "      cursor: pointer;\n",
              "      display: none;\n",
              "      fill: #1967D2;\n",
              "      height: 32px;\n",
              "      padding: 0 0 0 0;\n",
              "      width: 32px;\n",
              "    }\n",
              "\n",
              "    .colab-df-convert:hover {\n",
              "      background-color: #E2EBFA;\n",
              "      box-shadow: 0px 1px 2px rgba(60, 64, 67, 0.3), 0px 1px 3px 1px rgba(60, 64, 67, 0.15);\n",
              "      fill: #174EA6;\n",
              "    }\n",
              "\n",
              "    [theme=dark] .colab-df-convert {\n",
              "      background-color: #3B4455;\n",
              "      fill: #D2E3FC;\n",
              "    }\n",
              "\n",
              "    [theme=dark] .colab-df-convert:hover {\n",
              "      background-color: #434B5C;\n",
              "      box-shadow: 0px 1px 3px 1px rgba(0, 0, 0, 0.15);\n",
              "      filter: drop-shadow(0px 1px 2px rgba(0, 0, 0, 0.3));\n",
              "      fill: #FFFFFF;\n",
              "    }\n",
              "  </style>\n",
              "\n",
              "      <script>\n",
              "        const buttonEl =\n",
              "          document.querySelector('#df-954e27e6-9c72-43ae-842e-85b58c1e15de button.colab-df-convert');\n",
              "        buttonEl.style.display =\n",
              "          google.colab.kernel.accessAllowed ? 'block' : 'none';\n",
              "\n",
              "        async function convertToInteractive(key) {\n",
              "          const element = document.querySelector('#df-954e27e6-9c72-43ae-842e-85b58c1e15de');\n",
              "          const dataTable =\n",
              "            await google.colab.kernel.invokeFunction('convertToInteractive',\n",
              "                                                     [key], {});\n",
              "          if (!dataTable) return;\n",
              "\n",
              "          const docLinkHtml = 'Like what you see? Visit the ' +\n",
              "            '<a target=\"_blank\" href=https://colab.research.google.com/notebooks/data_table.ipynb>data table notebook</a>'\n",
              "            + ' to learn more about interactive tables.';\n",
              "          element.innerHTML = '';\n",
              "          dataTable['output_type'] = 'display_data';\n",
              "          await google.colab.output.renderOutput(dataTable, element);\n",
              "          const docLink = document.createElement('div');\n",
              "          docLink.innerHTML = docLinkHtml;\n",
              "          element.appendChild(docLink);\n",
              "        }\n",
              "      </script>\n",
              "    </div>\n",
              "  </div>\n",
              "  "
            ],
            "text/plain": [
              "      movieId                   title  genres\n",
              "3267     3354  Mission to Mars (2000)  Sci-Fi"
            ]
          },
          "metadata": {},
          "execution_count": 15
        }
      ],
      "source": [
        "mean_ratings = data.groupby('userId')[['rating']].mean()\n",
        "best = mean_ratings['rating'].idxmax()\n",
        "movies[movies['movieId']==best]\n"
      ]
    },
    {
      "cell_type": "markdown",
      "metadata": {
        "id": "UtsXLHAJikWO"
      },
      "source": [
        "number of geners and movies"
      ]
    },
    {
      "cell_type": "code",
      "execution_count": null,
      "metadata": {
        "colab": {
          "base_uri": "https://localhost:8080/"
        },
        "id": "W6r7CJRoipW6",
        "outputId": "209bdc2c-2772-4ea3-fd52-fbdfff4dd62e"
      },
      "outputs": [
        {
          "data": {
            "text/plain": [
              "Counter({'(no genres listed)': 246,\n",
              "         'Action': 3520,\n",
              "         'Adventure': 2329,\n",
              "         'Animation': 1027,\n",
              "         'Children': 1139,\n",
              "         'Comedy': 8374,\n",
              "         'Crime': 2939,\n",
              "         'Documentary': 2471,\n",
              "         'Drama': 13344,\n",
              "         'Fantasy': 1412,\n",
              "         'Film-Noir': 330,\n",
              "         'Horror': 2611,\n",
              "         'IMAX': 196,\n",
              "         'Musical': 1036,\n",
              "         'Mystery': 1514,\n",
              "         'Romance': 4127,\n",
              "         'Sci-Fi': 1743,\n",
              "         'Thriller': 4178,\n",
              "         'War': 1194,\n",
              "         'Western': 676})"
            ]
          },
          "execution_count": 7,
          "metadata": {},
          "output_type": "execute_result"
        }
      ],
      "source": [
        "movies['genres'] = movies['genres'].apply(lambda x: x.split(\"|\"))\n",
        "ge = Counter(g for genres in movies['genres'] for g in genres)\n",
        "ge"
      ]
    },
    {
      "cell_type": "markdown",
      "metadata": {
        "id": "HWcilek5ROWB"
      },
      "source": [
        " The x-axis of the histogram denotes the number of bins while the y-axis represents the frequency of a particular bin."
      ]
    },
    {
      "cell_type": "markdown",
      "source": [
        " here in the histogram of rating we can clearly see that 4.5 is highest rated by users and average rating is aroung 3.5 and also we can observ that the users are more prone to give 5 star rather than 0.5"
      ],
      "metadata": {
        "id": "Z2QScObXOybz"
      }
    },
    {
      "cell_type": "code",
      "execution_count": null,
      "metadata": {
        "colab": {
          "base_uri": "https://localhost:8080/",
          "height": 345
        },
        "id": "si6sHhApNGbq",
        "outputId": "fefb1684-b3e7-478f-cf1d-ca2aa6e62fd0"
      },
      "outputs": [
        {
          "data": {
            "text/plain": [
              "(array([ 239125.,  680732.,  279252., 1430997.,  883398., 4291193.,\n",
              "        2200156., 5561926., 4433484.]),\n",
              " array([0.5, 1. , 1.5, 2. , 2.5, 3. , 3.5, 4. , 4.5, 5. ]),\n",
              " <a list of 9 Patch objects>)"
            ]
          },
          "execution_count": 8,
          "metadata": {},
          "output_type": "execute_result"
        },
        {
          "data": {
            "image/png": "[encoded data removed]",
            "text/plain": [
              "<Figure size 432x288 with 1 Axes>"
            ]
          },
          "metadata": {},
          "output_type": "display_data"
        }
      ],
      "source": [
        "plt.hist(data['rating'], bins=list(np.arange(0.5,5.5,0.5)), color='blue', ec='black')"
      ]
    },
    {
      "cell_type": "markdown",
      "metadata": {
        "id": "E26kBPyuY1F5"
      },
      "source": [
        "# Normalization Techniques"
      ]
    },
    {
      "cell_type": "markdown",
      "metadata": {
        "id": "YP8bYJjZpS4B"
      },
      "source": [
        "crearting user-item matrix"
      ]
    },
    {
      "cell_type": "markdown",
      "source": [
        "because of the large amount of dataset can't convert into the sparse matrix"
      ],
      "metadata": {
        "id": "ZQ9cqTAVO2D9"
      }
    },
    {
      "cell_type": "code",
      "execution_count": null,
      "metadata": {
        "id": "AJT0SD21pXjZ"
      },
      "outputs": [],
      "source": [
        "# matrix=ratings.pivot(index='userId', columns='movieId', values='rating')\n",
        "# M = ratings['userId'].nunique()\n",
        "# N = ratings['movieId'].nunique()\n",
        "\n",
        "# user_mapper = dict(zip(np.unique(ratings[\"userId\"]), list(range(M))))\n",
        "# movie_mapper = dict(zip(np.unique(ratings[\"movieId\"]), list(range(N))))\n",
        "\n",
        "# user_inv_mapper = dict(zip(list(range(M)), np.unique(ratings[\"userId\"])))\n",
        "# movie_inv_mapper = dict(zip(list(range(N)), np.unique(ratings[\"movieId\"])))\n",
        "\n",
        "# user_index = [user_mapper[i] for i in ratings['userId']]\n",
        "# item_index = [movie_mapper[i] for i in ratings['movieId']]\n",
        "\n",
        "# X = csr_matrix((ratings[\"rating\"], (user_index,item_index)), shape=(M,N))"
      ]
    },
    {
      "cell_type": "markdown",
      "metadata": {
        "id": "aUPY1_qlObXZ"
      },
      "source": [
        "mean centering\n"
      ]
    },
    {
      "cell_type": "code",
      "source": [
        "ratings = pd.read_csv('/content/drive/MyDrive/ml-20m/ratings.csv')\n",
        "reader = Reader(rating_scale=(0.5, 5.0))"
      ],
      "metadata": {
        "id": "I3FUrWDZNDO5"
      },
      "execution_count": null,
      "outputs": []
    },
    {
      "cell_type": "code",
      "source": [
        "mean_ratings = ratings.groupby(['userId'])['rating'].transform('mean')\n",
        "ratings['mean_cent_rating'] = ratings['rating'] - mean_ratings\n",
        "# ratings['rating']=ratings['mean_cent_rating']"
      ],
      "metadata": {
        "id": "eeUZgKts0eKE"
      },
      "execution_count": null,
      "outputs": []
    },
    {
      "cell_type": "code",
      "source": [
        "norm1_data=Dataset.load_from_df(ratings[['userId', 'movieId','rating']], reader)"
      ],
      "metadata": {
        "id": "9sD02FZKFo_M"
      },
      "execution_count": null,
      "outputs": []
    },
    {
      "cell_type": "code",
      "source": [
        "algo1=KNNBasic()\n",
        "trainset, testset = train_test_split(ratings, test_size=0.2)"
      ],
      "metadata": {
        "id": "i9zDxIWTDz5H"
      },
      "execution_count": null,
      "outputs": []
    },
    {
      "cell_type": "code",
      "source": [
        "algo1.fit(trainset)\n",
        "predict=algo1.test(testset)"
      ],
      "metadata": {
        "id": "e2nUs8YudxZb"
      },
      "execution_count": null,
      "outputs": []
    },
    {
      "cell_type": "markdown",
      "source": [
        "z-score"
      ],
      "metadata": {
        "id": "qw49QP9051UF"
      }
    },
    {
      "cell_type": "markdown",
      "source": [
        "z-socre is more sensitive then the mean centering because in mean centring we only subtract the mean but here in the z-score we considering the standard deviation as well and we devide our mean centring rating by deviation so it give me more accurat normalization in compare to the mean rating."
      ],
      "metadata": {
        "id": "elqCUhO_PBnV"
      }
    },
    {
      "cell_type": "code",
      "source": [
        "deviation = ratings.groupby(['userId'])['rating'].transform('std')\n",
        "ratings['z-score'] = ratings['mean_cent_rating']/deviation"
      ],
      "metadata": {
        "id": "U7qfNa2Y0vdr"
      },
      "execution_count": null,
      "outputs": []
    },
    {
      "cell_type": "code",
      "source": [
        "norm2_data=Dataset.load_from_df(ratings[['userId', 'movieId','z-score']], reader)"
      ],
      "metadata": {
        "id": "Fo1QipsRKls1"
      },
      "execution_count": null,
      "outputs": []
    },
    {
      "cell_type": "code",
      "source": [
        "algo2=KNNBasic()\n",
        "trainset, testset = train_test_split(norm2_data, test_size=0.2)\n",
        "algo2.fit(trainset)\n",
        "predict=algo2.test(testset)"
      ],
      "metadata": {
        "id": "B0UMKsY4j2wZ"
      },
      "execution_count": null,
      "outputs": []
    },
    {
      "cell_type": "markdown",
      "source": [
        "because of large amount of data set can't fit the data into knn algo but our we can use svd algo it's shown in question 4."
      ],
      "metadata": {
        "id": "BxgPOH0pPdHt"
      }
    },
    {
      "cell_type": "markdown",
      "source": [
        "RMSE and cross"
      ],
      "metadata": {
        "id": "aemk8Ct_kOoj"
      }
    },
    {
      "cell_type": "code",
      "source": [
        "test_predictions =algo1.test(testset, verbose=False)\n",
        "accuracy.rmse(test_predictions)"
      ],
      "metadata": {
        "id": "CkfGvVq6kQ2J"
      },
      "execution_count": null,
      "outputs": []
    },
    {
      "cell_type": "code",
      "source": [
        "param_grid = {'k': list(range(5, 20, 5))}\n",
        "gs = GridSearchCV(KNNBasic, param_grid, measures=['rmse', 'mae'], cv=5)\n",
        "gs.fit(ratings)"
      ],
      "metadata": {
        "id": "KluK9TN_mOju"
      },
      "execution_count": null,
      "outputs": []
    },
    {
      "cell_type": "markdown",
      "source": [
        "plot"
      ],
      "metadata": {
        "id": "EKEWbHK1YCbM"
      }
    },
    {
      "cell_type": "code",
      "source": [
        "fig, ax = plt.subplots(figsize = (10, 5))\n",
        "ax.plot(param_grid, gs, marker = 'o')\n",
        "plt.title(plot, fontsize = 12)\n",
        "plt.xlabel(k, fontsize = 10)\n",
        "plt.ylabel(rmse, fontsize = 10)\n",
        "plt.draw()"
      ],
      "metadata": {
        "id": "Y5qrcNDdXvoJ"
      },
      "execution_count": null,
      "outputs": []
    },
    {
      "cell_type": "markdown",
      "source": [
        "# Similarity Measures"
      ],
      "metadata": {
        "id": "WKpa_E8vm_G3"
      }
    },
    {
      "cell_type": "markdown",
      "source": [
        "a. Cosine Similarity"
      ],
      "metadata": {
        "id": "CJFifG2ww5s1"
      }
    },
    {
      "cell_type": "markdown",
      "source": [
        "cosine similarity is standard technique to find similarity between two vectors so it is easy to find cosine similarity we just need to dot product and devides them by their norms."
      ],
      "metadata": {
        "id": "idYF_ZKOPr45"
      }
    },
    {
      "cell_type": "code",
      "source": [
        "sim_options = {'name': 'cosine','user_based': False }\n",
        "algo = KNNBasic(sim_options=sim_options)\n",
        "trainset, testset = train_test_split(norm2_data, test_size=0.2)\n",
        "algo.fit(trainset)\n",
        "predict=algo.test(testset)\n",
        "cross_validate(algo, norm1_data, measures=['RMSE', 'MAE'], cv=5, verbose=True)\n",
        "predictions = algo.test(testset)\n",
        "rmse=accuracy.rmse(predictions)"
      ],
      "metadata": {
        "id": "zx7zQ6yfnB1m"
      },
      "execution_count": null,
      "outputs": []
    },
    {
      "cell_type": "code",
      "source": [
        "\n"
      ],
      "metadata": {
        "id": "BpwfE_woW1Sf"
      },
      "execution_count": null,
      "outputs": []
    },
    {
      "cell_type": "markdown",
      "source": [
        "b. Pearson Correlation\n"
      ],
      "metadata": {
        "id": "IZz9iR0jxRRx"
      }
    },
    {
      "cell_type": "markdown",
      "source": [
        "pearson is same as coine similarity the only deference is it is use mean centring method to find similarity"
      ],
      "metadata": {
        "id": "TAG6aW36P__N"
      }
    },
    {
      "cell_type": "code",
      "source": [
        "sim_options = {'name': 'pearson','user_based': False ,'shrinkage': 0 }\n",
        "algo = KNNBasic(sim_options=sim_options)\n",
        "trainset, testset = train_test_split(norm2_data, test_size=0.2)\n",
        "algo.fit(trainset)\n",
        "predict=algo.test(testset)\n",
        "cross_validate(algo, norm1_data, measures=['RMSE', 'MAE'], cv=5, verbose=True)"
      ],
      "metadata": {
        "id": "NiNdSFOJxUlq"
      },
      "execution_count": null,
      "outputs": []
    },
    {
      "cell_type": "markdown",
      "source": [
        "Adjusted Cosine"
      ],
      "metadata": {
        "id": "v-ETzkJ6xrk1"
      }
    },
    {
      "cell_type": "markdown",
      "source": [
        "it is the more accurate in my opinion it is just like cos similarity but it is more sensitive then cos similarity it's taking direction also in consideration."
      ],
      "metadata": {
        "id": "bgPbMBfHQLNd"
      }
    },
    {
      "cell_type": "code",
      "source": [
        "mean_ratings = ratings.groupby(['userId'])['rating'].transform('mean')\n",
        "ratings['mean_cent_rating'] = ratings['rating'] - mean_ratings"
      ],
      "metadata": {
        "id": "esNg7mdWHZGJ"
      },
      "execution_count": null,
      "outputs": []
    },
    {
      "cell_type": "code",
      "source": [
        "movies_data =ratings.iloc[:50000,:]\n",
        "moviemat = movies_data.pivot_table(index='userId', columns='movieId', values='mean_cent_rating').replace(np.nan,0)"
      ],
      "metadata": {
        "id": "4qb0nlSwHUFH"
      },
      "execution_count": null,
      "outputs": []
    },
    {
      "cell_type": "code",
      "source": [
        "from scipy.spatial.distance import pdist, squareform\n",
        "similarity= 1 - squareform(pdist(moviemat.T, 'cosine'))\n",
        "sim=pd.DataFrame(similarity)"
      ],
      "metadata": {
        "id": "AWeKuG1vxuvH"
      },
      "execution_count": null,
      "outputs": []
    },
    {
      "cell_type": "code",
      "source": [
        "algo = KNNBasic()\n",
        "trainset, testset = train_test_split(sim, test_size=0.2)\n",
        "algo.fit(trainset)\n",
        "predict=algo.test(testset)\n",
        "cross_validate(algo, norm1_data, measures=['RMSE', 'MAE'], cv=5, verbose=True)"
      ],
      "metadata": {
        "id": "UV7Wv-KvJWsk"
      },
      "execution_count": null,
      "outputs": []
    },
    {
      "cell_type": "markdown",
      "source": [
        "# Factorization Techniques"
      ],
      "metadata": {
        "id": "uK9Qz7gGYOBy"
      }
    },
    {
      "cell_type": "markdown",
      "source": [
        "the similarity matrix (using Eigen\n",
        "Decomposition)"
      ],
      "metadata": {
        "id": "L7uKoQteYYQa"
      }
    },
    {
      "cell_type": "code",
      "source": [
        "from numpy.linalg import eig\n",
        "value,vectors=eig(similarity)\n",
        "sigma=np.fill_diagonal(value)\n",
        "new=vectors*sigma*np.transpose(vectors)\n",
        "algo = KNNBasic()\n",
        "trainset, testset = train_test_split(new, test_size=0.2)\n",
        "algo.fit(trainset)\n",
        "predict=algo.test(testset)\n",
        "cross_validate(algo, norm1_data, measures=['RMSE', 'MAE'], cv=5, verbose=True)"
      ],
      "metadata": {
        "id": "ZMNRAIkbYT5r"
      },
      "execution_count": null,
      "outputs": []
    },
    {
      "cell_type": "markdown",
      "source": [
        " the rating matrix (using Singular Value Decomposition) for the\n",
        "assigned dataset"
      ],
      "metadata": {
        "id": "5eNyu54ZaRa2"
      }
    },
    {
      "cell_type": "code",
      "source": [
        "trainset, testset = train_test_split(norm1_data, test_size=.25)\n",
        "svd_model = SVD()\n",
        "svd_model.fit(trainset)"
      ],
      "metadata": {
        "id": "PLZr4oJCfzVi"
      },
      "execution_count": null,
      "outputs": []
    },
    {
      "cell_type": "code",
      "source": [
        "predictions = svd_model.test(testset)\n",
        "accuracy.rmse(predictions)"
      ],
      "metadata": {
        "colab": {
          "base_uri": "https://localhost:8080/"
        },
        "id": "OWGlBdfHa6ZX",
        "outputId": "4000ab67-df57-47c1-980c-80a83350b329"
      },
      "execution_count": null,
      "outputs": [
        {
          "output_type": "stream",
          "name": "stdout",
          "text": [
            "RMSE: 0.7889\n"
          ]
        },
        {
          "output_type": "execute_result",
          "data": {
            "text/plain": [
              "0.7888998937848528"
            ]
          },
          "metadata": {},
          "execution_count": 8
        }
      ]
    },
    {
      "cell_type": "code",
      "source": [
        "cross_validate(svd_model, norm1_data, measures=['RMSE', 'MAE'], cv=5, verbose=True)"
      ],
      "metadata": {
        "id": "IRa1zS8tb543"
      },
      "execution_count": null,
      "outputs": []
    },
    {
      "cell_type": "markdown",
      "source": [
        "here we do two type of matrix factorization one is using eigen decomposition and other one is svd bsically we can get svd is from eigen dec. only but in the ED we have the symmetric matrix like here we have similarity matrix which is symmetric but our general use-item (rating) matrix is not symmetric so that is why we have to use svd.so using this basically we did that we convert our sparse matrix into the dense and decrease the dimensionn of our matrix as well. so that is why in above dataset we can't fit knn algo but can fit svd algo so this is the usecase of MF."
      ],
      "metadata": {
        "id": "blaGa1RUTCQz"
      }
    }
  ],
  "metadata": {
    "colab": {
      "provenance": []
    },
    "kernelspec": {
      "display_name": "Python 3",
      "name": "python3"
    },
    "language_info": {
      "name": "python"
    }
  },
  "nbformat": 4,
  "nbformat_minor": 0
}